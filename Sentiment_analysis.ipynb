{
 "cells": [
  {
   "cell_type": "code",
   "execution_count": 1,
   "id": "b8cd4558-ce67-42de-86d5-e7fed0728b82",
   "metadata": {},
   "outputs": [],
   "source": [
    "# Step 1: Import Required Libraries\n",
    "from transformers import pipeline"
   ]
  },
  {
   "cell_type": "code",
   "execution_count": 5,
   "id": "a46c2be1-bcba-4e8d-9393-9107c7543863",
   "metadata": {},
   "outputs": [
    {
     "data": {
      "application/vnd.jupyter.widget-view+json": {
       "model_id": "ddd454a792424833a37b3e0ba6900537",
       "version_major": 2,
       "version_minor": 0
      },
      "text/plain": [
       "config.json:   0%|          | 0.00/629 [00:00<?, ?B/s]"
      ]
     },
     "metadata": {},
     "output_type": "display_data"
    },
    {
     "data": {
      "application/vnd.jupyter.widget-view+json": {
       "model_id": "4cf8c597c1b54064a8333e3f90b567c9",
       "version_major": 2,
       "version_minor": 0
      },
      "text/plain": [
       "model.safetensors:   0%|          | 0.00/268M [00:00<?, ?B/s]"
      ]
     },
     "metadata": {},
     "output_type": "display_data"
    },
    {
     "data": {
      "application/vnd.jupyter.widget-view+json": {
       "model_id": "1867143fed6449cba5c014a14518d5b3",
       "version_major": 2,
       "version_minor": 0
      },
      "text/plain": [
       "tokenizer_config.json:   0%|          | 0.00/48.0 [00:00<?, ?B/s]"
      ]
     },
     "metadata": {},
     "output_type": "display_data"
    },
    {
     "data": {
      "application/vnd.jupyter.widget-view+json": {
       "model_id": "0c9067e51ba54415bab3d2ebae57a84f",
       "version_major": 2,
       "version_minor": 0
      },
      "text/plain": [
       "vocab.txt:   0%|          | 0.00/232k [00:00<?, ?B/s]"
      ]
     },
     "metadata": {},
     "output_type": "display_data"
    }
   ],
   "source": [
    "# Step 2: Initialize the Sentiment Analysis Pipeline\n",
    "sentiment_analyzer = pipeline(\n",
    "    \"sentiment-analysis\",\n",
    "    model=\"distilbert-base-uncased-finetuned-sst-2-english\",\n",
    "    device=0  # Use GPU\n",
    ")"
   ]
  },
  {
   "cell_type": "code",
   "execution_count": 7,
   "id": "a5a3c56b-4900-4981-997a-72cf02f87715",
   "metadata": {},
   "outputs": [],
   "source": [
    "# Step 3: Function to Analyze Sentiment\n",
    "def analyze_sentiment(text):\n",
    "    \"\"\"\n",
    "    Analyzes the sentiment of the given text.\n",
    "    \n",
    "    Args:\n",
    "        text (str): Input text to analyze.\n",
    "    \n",
    "    Returns:\n",
    "        dict: Analysis result with sentiment label and confidence score.\n",
    "    \"\"\"\n",
    "    result = sentiment_analyzer(text)\n",
    "    return result[0]\n"
   ]
  },
  {
   "cell_type": "code",
   "execution_count": 9,
   "id": "70e25bbf-3940-4707-afc4-d54c4cb74678",
   "metadata": {},
   "outputs": [],
   "source": [
    "# Step 4: Analyze Example Sentiments\n",
    "examples = [\n",
    "    \"I love this product! It's amazing.\",\n",
    "    \"This is the worst experience I've ever had.\",\n",
    "    \"The movie was okay, nothing special.\",\n",
    "]"
   ]
  },
  {
   "cell_type": "code",
   "execution_count": 11,
   "id": "57f65228-ce2a-4bb7-87aa-fdbad1e77254",
   "metadata": {},
   "outputs": [
    {
     "name": "stdout",
     "output_type": "stream",
     "text": [
      "Sentiment Analysis Results:\n",
      "\n",
      "Text: I love this product! It's amazing.\n",
      "Sentiment: POSITIVE, Confidence: 1.00\n",
      "\n",
      "Text: This is the worst experience I've ever had.\n",
      "Sentiment: NEGATIVE, Confidence: 1.00\n",
      "\n",
      "Text: The movie was okay, nothing special.\n",
      "Sentiment: NEGATIVE, Confidence: 0.99\n",
      "\n"
     ]
    }
   ],
   "source": [
    "print(\"Sentiment Analysis Results:\\n\")\n",
    "for example in examples:\n",
    "    analysis = analyze_sentiment(example)\n",
    "    print(f\"Text: {example}\\nSentiment: {analysis['label']}, Confidence: {analysis['score']:.2f}\\n\")"
   ]
  },
  {
   "cell_type": "code",
   "execution_count": null,
   "id": "74963c3b-c83b-491f-9373-80060bbcdae5",
   "metadata": {},
   "outputs": [],
   "source": []
  }
 ],
 "metadata": {
  "kernelspec": {
   "display_name": "Python 3 (ipykernel)",
   "language": "python",
   "name": "python3"
  },
  "language_info": {
   "codemirror_mode": {
    "name": "ipython",
    "version": 3
   },
   "file_extension": ".py",
   "mimetype": "text/x-python",
   "name": "python",
   "nbconvert_exporter": "python",
   "pygments_lexer": "ipython3",
   "version": "3.12.2"
  }
 },
 "nbformat": 4,
 "nbformat_minor": 5
}
